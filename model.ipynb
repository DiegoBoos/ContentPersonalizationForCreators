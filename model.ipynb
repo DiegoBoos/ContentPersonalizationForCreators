{
 "cells": [
  {
   "cell_type": "code",
   "execution_count": 4,
   "metadata": {},
   "outputs": [
    {
     "name": "stdout",
     "output_type": "stream",
     "text": [
      "             upvotes    year  sentiment\n",
      "cluster                                \n",
      "0        1306.250000  2021.0   0.288291\n",
      "1          47.476077  2021.0   0.244526\n",
      "2          25.151961  2021.0   0.441366\n",
      "3          46.980892  2021.0  -0.023880\n",
      "4          19.963768  2021.0   0.692652\n"
     ]
    }
   ],
   "source": [
    "import pandas as pd\n",
    "from sklearn.cluster import KMeans\n",
    "from sklearn.preprocessing import StandardScaler\n",
    "import numpy as np\n",
    "\n",
    "# Load the data\n",
    "df = pd.read_csv('./data/reviews_with_sentiment.csv')\n",
    "\n",
    "# Check and clean the data types\n",
    "df['upvotes'] = pd.to_numeric(df['upvotes'], errors='coerce')  # Convert non-numeric to NaN\n",
    "df['upvotes'] = df['upvotes'].fillna(0)  # Replace NaN with 0 or some other sensible default\n",
    "df['year'] = pd.to_numeric(df['year'], errors='coerce')  # Just to be safe\n",
    "df['sentiment'] = pd.to_numeric(df['sentiment'], errors='coerce')  # Just to be safe\n",
    "\n",
    "# Continue with the clustering as before\n",
    "features = df[['upvotes', 'year', 'sentiment']]\n",
    "\n",
    "# Standardize the features\n",
    "scaler = StandardScaler()\n",
    "features_scaled = scaler.fit_transform(features)\n",
    "\n",
    "# Define the K-Means model\n",
    "kmeans = KMeans(n_clusters=5, random_state=42)\n",
    "\n",
    "# Fit the model to the scaled features\n",
    "kmeans.fit(features_scaled)\n",
    "# Assign the cluster labels to the original dataframe\n",
    "df['cluster'] = kmeans.labels_\n",
    "\n",
    "# Compute the mean on specific columns only\n",
    "cluster_means = df.groupby('cluster')[['upvotes', 'year', 'sentiment']].mean()\n",
    "\n",
    "# Output the cluster means\n",
    "print(cluster_means)\n",
    "\n",
    "# If you want to save the dataframe with the cluster labels to a new CSV file\n",
    "# Make sure to replace 'path_to_save_clustered_data.csv' with your actual desired path\n",
    "df.to_csv('./data/clustered_data.csv', index=False)\n"
   ]
  },
  {
   "cell_type": "code",
   "execution_count": 5,
   "metadata": {},
   "outputs": [
    {
     "name": "stdout",
     "output_type": "stream",
     "text": [
      "              precision    recall  f1-score   support\n",
      "\n",
      "           0       1.00      1.00      1.00         7\n",
      "           1       0.99      1.00      0.99        87\n",
      "           2       0.97      0.99      0.98        69\n",
      "           3       1.00      1.00      1.00        38\n",
      "           4       1.00      0.93      0.96        29\n",
      "\n",
      "    accuracy                           0.99       230\n",
      "   macro avg       0.99      0.98      0.99       230\n",
      "weighted avg       0.99      0.99      0.99       230\n",
      "\n"
     ]
    }
   ],
   "source": [
    "from sklearn.model_selection import train_test_split\n",
    "from sklearn.ensemble import RandomForestClassifier\n",
    "from sklearn.metrics import classification_report\n",
    "\n",
    "# Assume df is your DataFrame with the 'cluster' labels and other features\n",
    "\n",
    "# Select features for the classification - exclude text and other non-numeric columns\n",
    "X = df[['upvotes', 'sentiment']]  # You can add more features here\n",
    "y = df['cluster']\n",
    "\n",
    "# Split the data into training and testing sets\n",
    "X_train, X_test, y_train, y_test = train_test_split(X, y, test_size=0.2, random_state=42)\n",
    "\n",
    "# Define the Random Forest classifier\n",
    "rf_classifier = RandomForestClassifier(n_estimators=100, random_state=42)\n",
    "\n",
    "# Train the classifier\n",
    "rf_classifier.fit(X_train, y_train)\n",
    "\n",
    "# Make predictions\n",
    "y_pred = rf_classifier.predict(X_test)\n",
    "\n",
    "# Evaluate the model\n",
    "print(classification_report(y_test, y_pred))\n"
   ]
  }
 ],
 "metadata": {
  "kernelspec": {
   "display_name": ".venv",
   "language": "python",
   "name": "python3"
  },
  "language_info": {
   "codemirror_mode": {
    "name": "ipython",
    "version": 3
   },
   "file_extension": ".py",
   "mimetype": "text/x-python",
   "name": "python",
   "nbconvert_exporter": "python",
   "pygments_lexer": "ipython3",
   "version": "3.11.7"
  }
 },
 "nbformat": 4,
 "nbformat_minor": 2
}
